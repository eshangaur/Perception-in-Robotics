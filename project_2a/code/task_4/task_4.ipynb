{
 "cells": [
  {
   "cell_type": "code",
   "execution_count": 1,
   "metadata": {
    "ExecuteTime": {
     "end_time": "2020-03-04T02:56:33.938409Z",
     "start_time": "2020-03-04T02:56:33.880865Z"
    }
   },
   "outputs": [
    {
     "name": "stdout",
     "output_type": "stream",
     "text": [
      "OpenCV version :  3.4.2\n"
     ]
    }
   ],
   "source": [
    "import cv2\n",
    "import glob\n",
    "import numpy as np\n",
    "print(\"OpenCV version :  {0}\".format(cv2.__version__))"
   ]
  },
  {
   "cell_type": "markdown",
   "metadata": {},
   "source": [
    "# Step (1): Load the images and camera parameters.\n",
    "This is the same as task 3 step (1), and we use the same image paris as those in task 3. In this task, you are required to use two views obtained from the stereo camera system, e.g., using \"left_0.png\" and \"right_0.png\". Several pairs of images are provided in the project resource folder. You also need to load the camera parameters in task 2. Note that for this task, the two views must be rectified."
   ]
  },
  {
   "cell_type": "code",
   "execution_count": null,
   "metadata": {
    "code_folding": [
     4
    ]
   },
   "outputs": [],
   "source": [
    "left_ = [cv2.imread(image, 0) for image in sorted(glob.glob(\"../../images/task_3_and_4/left_*.png\"))]\n",
    "right_ = [cv2.imread(image, 0) for image in sorted(glob.glob(\"../../images/task_3_and_4/right_*.png\"))]\n",
    "\n",
    "import matplotlib.pyplot as plt\n",
    "def plot_figures(figures, nrows=1, ncols=1):\n",
    "    \"\"\"Plot a dictionary of figures.\n",
    "\n",
    "    Parameters\n",
    "    ----------\n",
    "    figures : <title, figure> dictionary\n",
    "    ncols : number of columns of subplots wanted in the display\n",
    "    nrows : number of rows of subplots wanted in the figure\n",
    "    \"\"\"\n",
    "\n",
    "    fig, axeslist = plt.subplots(ncols=ncols, nrows=nrows, figsize=(10,10))\n",
    "    if(nrows > 1 or ncols > 1):\n",
    "        for ind,title in enumerate(figures):\n",
    "            axeslist.ravel()[ind].imshow(figures[title], cmap=plt.gray())\n",
    "            axeslist.ravel()[ind].set_title(title)\n",
    "            axeslist.ravel()[ind].set_axis_off()\n",
    "        plt.tight_layout() # optional\n",
    "    else:\n",
    "        for ind,title in enumerate(figures):\n",
    "            axeslist.imshow(figures[title], cmap=plt.gray())\n",
    "            axeslist.set_title(title)\n",
    "            axeslist.set_axis_off()\n",
    "            \n",
    "\n",
    "plot_figures({'left_1': left_[0], 'right_1': right_[0]}, 1, 2)\n",
    "\n",
    "s = cv2.FileStorage('../task_1/calibrated_camera_parameters.xml', cv2.FileStorage_READ)\n",
    "\n",
    "mtx_left = s.getNode('mtx_left').mat()\n",
    "distCoeffs_left = s.getNode('distCoeffs_left').mat()\n",
    "\n",
    "mtx_right = s.getNode('mtx_right').mat()\n",
    "distCoeffs_right = s.getNode('distCoeffs_right').mat()"
   ]
  }
 ],
 "metadata": {
  "kernelspec": {
   "display_name": "Python 3",
   "language": "python",
   "name": "python3"
  },
  "language_info": {
   "codemirror_mode": {
    "name": "ipython",
    "version": 3
   },
   "file_extension": ".py",
   "mimetype": "text/x-python",
   "name": "python",
   "nbconvert_exporter": "python",
   "pygments_lexer": "ipython3",
   "version": "3.6.9"
  },
  "toc": {
   "base_numbering": 1,
   "nav_menu": {},
   "number_sections": true,
   "sideBar": true,
   "skip_h1_title": false,
   "title_cell": "Table of Contents",
   "title_sidebar": "Contents",
   "toc_cell": false,
   "toc_position": {},
   "toc_section_display": true,
   "toc_window_display": true
  },
  "varInspector": {
   "cols": {
    "lenName": 16,
    "lenType": 16,
    "lenVar": 40
   },
   "kernels_config": {
    "python": {
     "delete_cmd_postfix": "",
     "delete_cmd_prefix": "del ",
     "library": "var_list.py",
     "varRefreshCmd": "print(var_dic_list())"
    },
    "r": {
     "delete_cmd_postfix": ") ",
     "delete_cmd_prefix": "rm(",
     "library": "var_list.r",
     "varRefreshCmd": "cat(var_dic_list()) "
    }
   },
   "types_to_exclude": [
    "module",
    "function",
    "builtin_function_or_method",
    "instance",
    "_Feature"
   ],
   "window_display": false
  }
 },
 "nbformat": 4,
 "nbformat_minor": 4
}
